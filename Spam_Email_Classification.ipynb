{
  "nbformat": 4,
  "nbformat_minor": 0,
  "metadata": {
    "colab": {
      "name": "Spam Email Classification.ipynb",
      "provenance": []
    },
    "kernelspec": {
      "name": "python3",
      "display_name": "Python 3"
    },
    "language_info": {
      "name": "python"
    }
  },
  "cells": [
    {
      "cell_type": "markdown",
      "metadata": {
        "id": "Hq0goYniyzqt"
      },
      "source": [
        "## Importing Libraries for use in the Project"
      ]
    },
    {
      "cell_type": "code",
      "metadata": {
        "id": "tltEYqZQlV3F"
      },
      "source": [
        "import numpy as np\n",
        "import pandas as pd\n",
        "\n",
        "from sklearn.model_selection import train_test_split\n",
        "from tensorflow.keras.preprocessing.text import Tokenizer\n",
        "from tensorflow.keras.preprocessing.sequence import pad_sequences\n",
        "from tensorflow.keras import Input, Model\n",
        "from tensorflow.keras.layers import Embedding, Flatten, Dense\n",
        "from tensorflow.keras.callbacks import EarlyStopping"
      ],
      "execution_count": null,
      "outputs": []
    },
    {
      "cell_type": "markdown",
      "metadata": {
        "id": "v0c017aZy6An"
      },
      "source": [
        "## Loading dataset from Google Drive"
      ]
    },
    {
      "cell_type": "code",
      "metadata": {
        "id": "XnJUZCFEl6UI"
      },
      "source": [
        "path = \"/content/drive/MyDrive/SCHOOL/ICS/Year IV/Semester  I/Spam Email raw text for NLP.csv\" # Place the path to your CSV file here\n",
        "data = pd.read_csv(path)"
      ],
      "execution_count": null,
      "outputs": []
    },
    {
      "cell_type": "code",
      "metadata": {
        "colab": {
          "base_uri": "https://localhost:8080/",
          "height": 417
        },
        "id": "xIYjK5SWmh7S",
        "outputId": "234b3a1c-38e2-46ea-dd2b-24203d4dadc0"
      },
      "source": [
        "data"
      ],
      "execution_count": null,
      "outputs": [
        {
          "output_type": "execute_result",
          "data": {
            "text/html": [
              "<div>\n",
              "<style scoped>\n",
              "    .dataframe tbody tr th:only-of-type {\n",
              "        vertical-align: middle;\n",
              "    }\n",
              "\n",
              "    .dataframe tbody tr th {\n",
              "        vertical-align: top;\n",
              "    }\n",
              "\n",
              "    .dataframe thead th {\n",
              "        text-align: right;\n",
              "    }\n",
              "</style>\n",
              "<table border=\"1\" class=\"dataframe\">\n",
              "  <thead>\n",
              "    <tr style=\"text-align: right;\">\n",
              "      <th></th>\n",
              "      <th>CATEGORY</th>\n",
              "      <th>MESSAGE</th>\n",
              "      <th>FILE_NAME</th>\n",
              "    </tr>\n",
              "  </thead>\n",
              "  <tbody>\n",
              "    <tr>\n",
              "      <th>0</th>\n",
              "      <td>1</td>\n",
              "      <td>Dear Homeowner,\\n\\n \\n\\nInterest Rates are at ...</td>\n",
              "      <td>00249.5f45607c1bffe89f60ba1ec9f878039a</td>\n",
              "    </tr>\n",
              "    <tr>\n",
              "      <th>1</th>\n",
              "      <td>1</td>\n",
              "      <td>ATTENTION: This is a MUST for ALL Computer Use...</td>\n",
              "      <td>00373.ebe8670ac56b04125c25100a36ab0510</td>\n",
              "    </tr>\n",
              "    <tr>\n",
              "      <th>2</th>\n",
              "      <td>1</td>\n",
              "      <td>This is a multi-part message in MIME format.\\n...</td>\n",
              "      <td>00214.1367039e50dc6b7adb0f2aa8aba83216</td>\n",
              "    </tr>\n",
              "    <tr>\n",
              "      <th>3</th>\n",
              "      <td>1</td>\n",
              "      <td>IMPORTANT INFORMATION:\\n\\n\\n\\nThe new domain n...</td>\n",
              "      <td>00210.050ffd105bd4e006771ee63cabc59978</td>\n",
              "    </tr>\n",
              "    <tr>\n",
              "      <th>4</th>\n",
              "      <td>1</td>\n",
              "      <td>This is the bottom line.  If you can GIVE AWAY...</td>\n",
              "      <td>00033.9babb58d9298daa2963d4f514193d7d6</td>\n",
              "    </tr>\n",
              "    <tr>\n",
              "      <th>...</th>\n",
              "      <td>...</td>\n",
              "      <td>...</td>\n",
              "      <td>...</td>\n",
              "    </tr>\n",
              "    <tr>\n",
              "      <th>5791</th>\n",
              "      <td>0</td>\n",
              "      <td>I'm one of the 30,000 but it's not working ver...</td>\n",
              "      <td>00609.dd49926ce94a1ea328cce9b62825bc97</td>\n",
              "    </tr>\n",
              "    <tr>\n",
              "      <th>5792</th>\n",
              "      <td>0</td>\n",
              "      <td>Damien Morton quoted:\\n\\n&gt;W3C approves HTML 4 ...</td>\n",
              "      <td>00957.e0b56b117f3ec5f85e432a9d2a47801f</td>\n",
              "    </tr>\n",
              "    <tr>\n",
              "      <th>5793</th>\n",
              "      <td>0</td>\n",
              "      <td>On Mon, 2002-07-22 at 06:50, che wrote:\\n\\n\\n\\...</td>\n",
              "      <td>01127.841233b48eceb74a825417d8d918abf8</td>\n",
              "    </tr>\n",
              "    <tr>\n",
              "      <th>5794</th>\n",
              "      <td>0</td>\n",
              "      <td>Once upon a time, Manfred wrote :\\n\\n\\n\\n&gt; I w...</td>\n",
              "      <td>01178.5c977dff972cd6eef64d4173b90307f0</td>\n",
              "    </tr>\n",
              "    <tr>\n",
              "      <th>5795</th>\n",
              "      <td>0</td>\n",
              "      <td>If you run Pick, and then use the \"New FTOC\" b...</td>\n",
              "      <td>00747.352d424267d36975a7b40b85ffd0885e</td>\n",
              "    </tr>\n",
              "  </tbody>\n",
              "</table>\n",
              "<p>5796 rows × 3 columns</p>\n",
              "</div>"
            ],
            "text/plain": [
              "      CATEGORY  ...                               FILE_NAME\n",
              "0            1  ...  00249.5f45607c1bffe89f60ba1ec9f878039a\n",
              "1            1  ...  00373.ebe8670ac56b04125c25100a36ab0510\n",
              "2            1  ...  00214.1367039e50dc6b7adb0f2aa8aba83216\n",
              "3            1  ...  00210.050ffd105bd4e006771ee63cabc59978\n",
              "4            1  ...  00033.9babb58d9298daa2963d4f514193d7d6\n",
              "...        ...  ...                                     ...\n",
              "5791         0  ...  00609.dd49926ce94a1ea328cce9b62825bc97\n",
              "5792         0  ...  00957.e0b56b117f3ec5f85e432a9d2a47801f\n",
              "5793         0  ...  01127.841233b48eceb74a825417d8d918abf8\n",
              "5794         0  ...  01178.5c977dff972cd6eef64d4173b90307f0\n",
              "5795         0  ...  00747.352d424267d36975a7b40b85ffd0885e\n",
              "\n",
              "[5796 rows x 3 columns]"
            ]
          },
          "metadata": {},
          "execution_count": 26
        }
      ]
    },
    {
      "cell_type": "markdown",
      "metadata": {
        "id": "HhH9OsuizGh5"
      },
      "source": [
        "## Brief Exploratory Data Analysis"
      ]
    },
    {
      "cell_type": "code",
      "metadata": {
        "colab": {
          "base_uri": "https://localhost:8080/"
        },
        "id": "weGUeRn0miX3",
        "outputId": "633b3946-7fba-4af4-835a-e9a783c711ec"
      },
      "source": [
        "# 5796 samples of data\n",
        "data.shape"
      ],
      "execution_count": null,
      "outputs": [
        {
          "output_type": "execute_result",
          "data": {
            "text/plain": [
              "(5796, 3)"
            ]
          },
          "metadata": {},
          "execution_count": 27
        }
      ]
    },
    {
      "cell_type": "code",
      "metadata": {
        "colab": {
          "base_uri": "https://localhost:8080/"
        },
        "id": "ycx4OHUYnP8h",
        "outputId": "e36206f5-1625-4d45-b9f7-0f03fa293071"
      },
      "source": [
        "# Based on Non-Null Count Column in below output, imputation of missing values does not need to be performed\n",
        "data.info()"
      ],
      "execution_count": null,
      "outputs": [
        {
          "output_type": "stream",
          "text": [
            "<class 'pandas.core.frame.DataFrame'>\n",
            "RangeIndex: 5796 entries, 0 to 5795\n",
            "Data columns (total 3 columns):\n",
            " #   Column     Non-Null Count  Dtype \n",
            "---  ------     --------------  ----- \n",
            " 0   CATEGORY   5796 non-null   int64 \n",
            " 1   MESSAGE    5796 non-null   object\n",
            " 2   FILE_NAME  5796 non-null   object\n",
            "dtypes: int64(1), object(2)\n",
            "memory usage: 136.0+ KB\n"
          ],
          "name": "stdout"
        }
      ]
    },
    {
      "cell_type": "markdown",
      "metadata": {
        "id": "YzLt42DuzT-_"
      },
      "source": [
        "## NLP Text Preprocessing\n",
        "* Dropping irrelevant features\n",
        "* Tokenization\n",
        "* Sequencing\n",
        "* Splitting dataset into train and test sets"
      ]
    },
    {
      "cell_type": "code",
      "metadata": {
        "id": "mglT4f2rsI6M"
      },
      "source": [
        "def get_sequences(texts, tokenizer, train=True, max_sequence_length=None):\n",
        "  # Creating sequences from text\n",
        "  sequences = tokenizer.texts_to_sequences(texts)\n",
        "\n",
        "  # Calculates the maximum sequence length if the train set is in use\n",
        "  if train == True:\n",
        "    max_sequence_length = np.max(list(map(lambda x: len(x), sequences)))\n",
        "\n",
        "  # Padding the train set with zeros\n",
        "  sequences = pad_sequences(sequences, maxlen=max_sequence_length, padding='post')\n",
        "  return sequences"
      ],
      "execution_count": null,
      "outputs": []
    },
    {
      "cell_type": "code",
      "metadata": {
        "id": "fYQYd1ONmif3"
      },
      "source": [
        "# Function to preprocess data\n",
        "def preprocessing(data):\n",
        "  df = data.copy()\n",
        "  # Drop FILE_NAME column\n",
        "  df = df.drop(\"FILE_NAME\",axis=1)\n",
        "  X = df['MESSAGE']\n",
        "  y = df['CATEGORY']\n",
        "\n",
        "  # Splitting the dataset into training and testing data\n",
        "  X_train, X_test, y_train, y_test = train_test_split(X, y, test_size = 0.15, shuffle=True, random_state=1)\n",
        "\n",
        "  # Creating the tokenizer\n",
        "  tokenizer = Tokenizer(num_words=30000) # num_words reduces the number of words in the training set; slightly better for the model\n",
        "\n",
        "  # Fitting the tokenizer\n",
        "  tokenizer.fit_on_texts(X_train)\n",
        "\n",
        "  # Convert emails to sequences\n",
        "  X_train = get_sequences(X_train,tokenizer,train=True)\n",
        "  X_test = get_sequences(X_test,tokenizer,train=False,max_sequence_length=X_train.shape[1])\n",
        "  return  X_train, X_test, y_train, y_test"
      ],
      "execution_count": null,
      "outputs": []
    },
    {
      "cell_type": "code",
      "metadata": {
        "id": "Bp_C9HWsmjDT"
      },
      "source": [
        " X_train, X_test, y_train, y_test = preprocessing(data)"
      ],
      "execution_count": null,
      "outputs": []
    },
    {
      "cell_type": "code",
      "metadata": {
        "colab": {
          "base_uri": "https://localhost:8080/"
        },
        "id": "W9SwVfG0nibe",
        "outputId": "d16fcf0e-0cb4-425d-e5fd-2b6dac827187"
      },
      "source": [
        "X_train.shape[1]"
      ],
      "execution_count": null,
      "outputs": [
        {
          "output_type": "execute_result",
          "data": {
            "text/plain": [
              "14805"
            ]
          },
          "metadata": {},
          "execution_count": 32
        }
      ]
    },
    {
      "cell_type": "code",
      "metadata": {
        "colab": {
          "base_uri": "https://localhost:8080/"
        },
        "id": "7syPxQ4Yx9YT",
        "outputId": "3023d14c-9045-4e68-d3ba-6dc00dd34e48"
      },
      "source": [
        "# Training set has less emails that are spam. Spam = 1; 0=Not Spam\n",
        "y_train.value_counts()"
      ],
      "execution_count": null,
      "outputs": [
        {
          "output_type": "execute_result",
          "data": {
            "text/plain": [
              "0    3331\n",
              "1    1595\n",
              "Name: CATEGORY, dtype: int64"
            ]
          },
          "metadata": {},
          "execution_count": 33
        }
      ]
    },
    {
      "cell_type": "markdown",
      "metadata": {
        "id": "kBLovcR5yueB"
      },
      "source": [
        "## Model Creation and Training"
      ]
    },
    {
      "cell_type": "code",
      "metadata": {
        "colab": {
          "base_uri": "https://localhost:8080/"
        },
        "id": "mn8rIDVBx9fy",
        "outputId": "935ed90d-1929-4fb1-c520-a2f9f7b9d47c"
      },
      "source": [
        "# Input Layer\n",
        "inputs = Input(shape=(X_train.shape[1],))\n",
        "# Embedding Layer\n",
        "embedding = Embedding(\n",
        "    input_dim=30000, # Number of words in tokenizer\n",
        "    output_dim=64\n",
        ") (inputs)\n",
        "# Flatten Layer\n",
        "flatten = Flatten()(embedding)\n",
        "#Output Layer\n",
        "outputs = Dense(1, activation='sigmoid')(flatten) # Sigmoid used because this is a binary classification problem\n",
        "\n",
        "# Creating model\n",
        "model = Model(inputs=inputs, outputs=outputs)\n",
        "\n",
        "model.compile(optimizer='adam',loss='binary_crossentropy',metrics='accuracy')\n",
        "\n",
        "print(model.summary())"
      ],
      "execution_count": null,
      "outputs": [
        {
          "output_type": "stream",
          "text": [
            "Model: \"model_1\"\n",
            "_________________________________________________________________\n",
            "Layer (type)                 Output Shape              Param #   \n",
            "=================================================================\n",
            "input_2 (InputLayer)         [(None, 14805)]           0         \n",
            "_________________________________________________________________\n",
            "embedding_1 (Embedding)      (None, 14805, 64)         1920000   \n",
            "_________________________________________________________________\n",
            "flatten_1 (Flatten)          (None, 947520)            0         \n",
            "_________________________________________________________________\n",
            "dense_1 (Dense)              (None, 1)                 947521    \n",
            "=================================================================\n",
            "Total params: 2,867,521\n",
            "Trainable params: 2,867,521\n",
            "Non-trainable params: 0\n",
            "_________________________________________________________________\n",
            "None\n"
          ],
          "name": "stdout"
        }
      ]
    },
    {
      "cell_type": "code",
      "metadata": {
        "colab": {
          "base_uri": "https://localhost:8080/"
        },
        "id": "a4yErMdCx9mn",
        "outputId": "53eeb18c-86e9-41d5-9834-915a294bc14f"
      },
      "source": [
        "# Training model\n",
        "history = model.fit(\n",
        "    X_train,\n",
        "    y_train,\n",
        "    validation_split=0.2,\n",
        "    batch_size=32,\n",
        "    epochs=100,\n",
        "    callbacks=[\n",
        "      EarlyStopping(monitor='val_loss',patience=3,restore_best_weights=True) # Stop model from training if validation error has not improved after 3 epochs\n",
        "    ]\n",
        ")"
      ],
      "execution_count": null,
      "outputs": [
        {
          "output_type": "stream",
          "text": [
            "Epoch 1/100\n",
            "124/124 [==============================] - 14s 112ms/step - loss: 0.6194 - accuracy: 0.8376 - val_loss: 0.0831 - val_accuracy: 0.9868\n",
            "Epoch 2/100\n",
            "124/124 [==============================] - 14s 114ms/step - loss: 0.0366 - accuracy: 0.9904 - val_loss: 0.0371 - val_accuracy: 0.9868\n",
            "Epoch 3/100\n",
            "124/124 [==============================] - 14s 116ms/step - loss: 0.0107 - accuracy: 0.9990 - val_loss: 0.0330 - val_accuracy: 0.9909\n",
            "Epoch 4/100\n",
            "124/124 [==============================] - 14s 117ms/step - loss: 0.0055 - accuracy: 0.9992 - val_loss: 0.0329 - val_accuracy: 0.9909\n",
            "Epoch 5/100\n",
            "124/124 [==============================] - 14s 116ms/step - loss: 0.0034 - accuracy: 0.9995 - val_loss: 0.0336 - val_accuracy: 0.9899\n",
            "Epoch 6/100\n",
            "124/124 [==============================] - 14s 116ms/step - loss: 0.0025 - accuracy: 0.9995 - val_loss: 0.0338 - val_accuracy: 0.9909\n",
            "Epoch 7/100\n",
            "124/124 [==============================] - 14s 117ms/step - loss: 0.0019 - accuracy: 0.9997 - val_loss: 0.0347 - val_accuracy: 0.9909\n"
          ],
          "name": "stdout"
        }
      ]
    },
    {
      "cell_type": "markdown",
      "metadata": {
        "id": "M0-BIJCkAajf"
      },
      "source": [
        "## Model Evaluation"
      ]
    },
    {
      "cell_type": "code",
      "metadata": {
        "colab": {
          "base_uri": "https://localhost:8080/"
        },
        "id": "GCmVQvb8AY81",
        "outputId": "f1711f5d-a2b3-44d1-f246-319c1ac1e538"
      },
      "source": [
        "results = model.evaluate(X_test,y_test)"
      ],
      "execution_count": null,
      "outputs": [
        {
          "output_type": "stream",
          "text": [
            "28/28 [==============================] - 1s 31ms/step - loss: 0.0225 - accuracy: 0.9920\n"
          ],
          "name": "stdout"
        }
      ]
    },
    {
      "cell_type": "code",
      "metadata": {
        "colab": {
          "base_uri": "https://localhost:8080/"
        },
        "id": "33OBPCetAZGA",
        "outputId": "dbfe0446-9978-4ae5-ca79-0fdaca38fad7"
      },
      "source": [
        "print(f\"Test Loss: {results[0]:.4f}\")\n",
        "print(f\"Test Accuracy: {results[1] * 100:.2f}%\") # Model is performing fairly well"
      ],
      "execution_count": null,
      "outputs": [
        {
          "output_type": "stream",
          "text": [
            "Test Loss: 0.0225\n",
            "Test Accuracy: 99.20%\n"
          ],
          "name": "stdout"
        }
      ]
    }
  ]
}